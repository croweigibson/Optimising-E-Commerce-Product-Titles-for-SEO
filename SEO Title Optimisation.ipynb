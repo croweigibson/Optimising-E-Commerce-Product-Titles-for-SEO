{
 "cells": [
  {
   "cell_type": "markdown",
   "id": "69b95f97",
   "metadata": {},
   "source": [
    "# SEO Title Optimisation Project"
   ]
  },
  {
   "cell_type": "code",
   "execution_count": 3,
   "id": "75624d47",
   "metadata": {},
   "outputs": [],
   "source": [
    "# importing libraries\n",
    "import pandas as pd\n",
    "import numpy as np\n",
    "import seaborn as sns\n",
    "import matplotlib.pyplot as plt\n",
    "import re"
   ]
  },
  {
   "cell_type": "code",
   "execution_count": 4,
   "id": "f9348b9a",
   "metadata": {},
   "outputs": [
    {
     "name": "stdout",
     "output_type": "stream",
     "text": [
      "Dataset loaded succesfully\n"
     ]
    }
   ],
   "source": [
    "#loading the dataset\n",
    "product = pd.read_excel('productdata.xlsx')\n",
    "print(\"Dataset loaded succesfully\")"
   ]
  },
  {
   "cell_type": "markdown",
   "id": "5bc763f0",
   "metadata": {},
   "source": [
    "## Data Cleaning and Preparation"
   ]
  },
  {
   "cell_type": "code",
   "execution_count": 6,
   "id": "b7351463",
   "metadata": {},
   "outputs": [
    {
     "data": {
      "text/plain": [
       "(3847, 6)"
      ]
     },
     "execution_count": 6,
     "metadata": {},
     "output_type": "execute_result"
    }
   ],
   "source": [
    "#understanding the data using shape function\n",
    "product.shape"
   ]
  },
  {
   "cell_type": "markdown",
   "id": "35591741",
   "metadata": {},
   "source": [
    "This means there are **3847** rows and **6** columns"
   ]
  },
  {
   "cell_type": "code",
   "execution_count": 7,
   "id": "bb60f1ba",
   "metadata": {},
   "outputs": [
    {
     "name": "stdout",
     "output_type": "stream",
     "text": [
      "<class 'pandas.core.frame.DataFrame'>\n",
      "RangeIndex: 3847 entries, 0 to 3846\n",
      "Data columns (total 6 columns):\n",
      " #   Column         Non-Null Count  Dtype  \n",
      "---  ------         --------------  -----  \n",
      " 0   PRODUCTID      3847 non-null   int64  \n",
      " 1   TITLE          3847 non-null   object \n",
      " 2   BULLET_POINTS  2256 non-null   object \n",
      " 3   DESCRIPTION    1703 non-null   object \n",
      " 4   PRODUCTTYPEID  3669 non-null   float64\n",
      " 5   ProductLength  3669 non-null   float64\n",
      "dtypes: float64(2), int64(1), object(3)\n",
      "memory usage: 180.5+ KB\n"
     ]
    }
   ],
   "source": [
    "product.info()"
   ]
  },
  {
   "cell_type": "markdown",
   "id": "d97ca437",
   "metadata": {},
   "source": [
    "Further analysis shows that dataset contains **3,847 products** with **6 features**, including product ID, title, and descriptions. While **PRODUCTID and TITLE are fully available**, **BULLET_POINTS (41%) and DESCRIPTION (56%) have significant missing values**, and **PRODUCTTYPEID and ProductLength (5%) have minor gaps**. These missing values will be addressed before further analysis.\n"
   ]
  },
  {
   "cell_type": "code",
   "execution_count": 8,
   "id": "3cdeafe3",
   "metadata": {},
   "outputs": [
    {
     "data": {
      "text/html": [
       "<div>\n",
       "<style scoped>\n",
       "    .dataframe tbody tr th:only-of-type {\n",
       "        vertical-align: middle;\n",
       "    }\n",
       "\n",
       "    .dataframe tbody tr th {\n",
       "        vertical-align: top;\n",
       "    }\n",
       "\n",
       "    .dataframe thead th {\n",
       "        text-align: right;\n",
       "    }\n",
       "</style>\n",
       "<table border=\"1\" class=\"dataframe\">\n",
       "  <thead>\n",
       "    <tr style=\"text-align: right;\">\n",
       "      <th></th>\n",
       "      <th>PRODUCTID</th>\n",
       "      <th>TITLE</th>\n",
       "      <th>BULLET_POINTS</th>\n",
       "      <th>DESCRIPTION</th>\n",
       "      <th>PRODUCTTYPEID</th>\n",
       "      <th>ProductLength</th>\n",
       "    </tr>\n",
       "  </thead>\n",
       "  <tbody>\n",
       "    <tr>\n",
       "      <th>0</th>\n",
       "      <td>1925202</td>\n",
       "      <td>ArtzFolio Tulip Flowers Blackout Curtain for D...</td>\n",
       "      <td>[LUXURIOUS &amp; APPEALING: Beautiful custom-made ...</td>\n",
       "      <td>NaN</td>\n",
       "      <td>1650.0</td>\n",
       "      <td>2125.980000</td>\n",
       "    </tr>\n",
       "    <tr>\n",
       "      <th>1</th>\n",
       "      <td>2673191</td>\n",
       "      <td>Marks &amp; Spencer Girls' Pyjama Sets T86_2561C_N...</td>\n",
       "      <td>[Harry Potter Hedwig Pyjamas (6-16 Yrs),100% c...</td>\n",
       "      <td>NaN</td>\n",
       "      <td>2755.0</td>\n",
       "      <td>393.700000</td>\n",
       "    </tr>\n",
       "    <tr>\n",
       "      <th>2</th>\n",
       "      <td>2765088</td>\n",
       "      <td>PRIKNIK Horn Red Electric Air Horn Compressor ...</td>\n",
       "      <td>[Loud Dual Tone Trumpet Horn, Compatible With ...</td>\n",
       "      <td>Specifications: Color: Red, Material: Aluminiu...</td>\n",
       "      <td>7537.0</td>\n",
       "      <td>748.031495</td>\n",
       "    </tr>\n",
       "    <tr>\n",
       "      <th>3</th>\n",
       "      <td>1594019</td>\n",
       "      <td>ALISHAH Women's Cotton Ankle Length Leggings C...</td>\n",
       "      <td>[Made By 95%cotton and 5% Lycra which gives yo...</td>\n",
       "      <td>AISHAH Women's Lycra Cotton Ankel Leggings. Br...</td>\n",
       "      <td>2996.0</td>\n",
       "      <td>787.401574</td>\n",
       "    </tr>\n",
       "    <tr>\n",
       "      <th>4</th>\n",
       "      <td>283658</td>\n",
       "      <td>The United Empire Loyalists: A Chronicle of th...</td>\n",
       "      <td>NaN</td>\n",
       "      <td>NaN</td>\n",
       "      <td>6112.0</td>\n",
       "      <td>598.424000</td>\n",
       "    </tr>\n",
       "  </tbody>\n",
       "</table>\n",
       "</div>"
      ],
      "text/plain": [
       "   PRODUCTID                                              TITLE  \\\n",
       "0    1925202  ArtzFolio Tulip Flowers Blackout Curtain for D...   \n",
       "1    2673191  Marks & Spencer Girls' Pyjama Sets T86_2561C_N...   \n",
       "2    2765088  PRIKNIK Horn Red Electric Air Horn Compressor ...   \n",
       "3    1594019  ALISHAH Women's Cotton Ankle Length Leggings C...   \n",
       "4     283658  The United Empire Loyalists: A Chronicle of th...   \n",
       "\n",
       "                                       BULLET_POINTS  \\\n",
       "0  [LUXURIOUS & APPEALING: Beautiful custom-made ...   \n",
       "1  [Harry Potter Hedwig Pyjamas (6-16 Yrs),100% c...   \n",
       "2  [Loud Dual Tone Trumpet Horn, Compatible With ...   \n",
       "3  [Made By 95%cotton and 5% Lycra which gives yo...   \n",
       "4                                                NaN   \n",
       "\n",
       "                                         DESCRIPTION  PRODUCTTYPEID  \\\n",
       "0                                                NaN         1650.0   \n",
       "1                                                NaN         2755.0   \n",
       "2  Specifications: Color: Red, Material: Aluminiu...         7537.0   \n",
       "3  AISHAH Women's Lycra Cotton Ankel Leggings. Br...         2996.0   \n",
       "4                                                NaN         6112.0   \n",
       "\n",
       "   ProductLength  \n",
       "0    2125.980000  \n",
       "1     393.700000  \n",
       "2     748.031495  \n",
       "3     787.401574  \n",
       "4     598.424000  "
      ]
     },
     "execution_count": 8,
     "metadata": {},
     "output_type": "execute_result"
    }
   ],
   "source": [
    "product.head()"
   ]
  },
  {
   "cell_type": "markdown",
   "id": "8b18c75e",
   "metadata": {},
   "source": [
    "### Checking for duplicates"
   ]
  },
  {
   "cell_type": "code",
   "execution_count": 9,
   "id": "1b205e7c",
   "metadata": {
    "scrolled": true
   },
   "outputs": [
    {
     "name": "stderr",
     "output_type": "stream",
     "text": [
      "C:\\Users\\HP\\AppData\\Local\\Temp\\ipykernel_12812\\1786143989.py:15: FutureWarning: \n",
      "\n",
      "Passing `palette` without assigning `hue` is deprecated and will be removed in v0.14.0. Assign the `x` variable to `hue` and set `legend=False` for the same effect.\n",
      "\n",
      "  ax = sns.barplot(x=list(duplicate_counts.keys()), y=list(duplicate_counts.values()), palette=['blue', 'green'])\n"
     ]
    },
    {
     "data": {
      "image/png": "[encoded data removed]",
      "text/plain": [
       "<Figure size 600x400 with 1 Axes>"
      ]
     },
     "metadata": {},
     "output_type": "display_data"
    }
   ],
   "source": [
    "# Count duplicates before cleaning\n",
    "duplicates_before = product.duplicated().sum()\n",
    "\n",
    "# Remove duplicates in place to ensure product is actually cleaned\n",
    "product.drop_duplicates(inplace=True)\n",
    "\n",
    "# Count duplicates after cleaning\n",
    "duplicates_after = product.duplicated().sum()  # Should be 0\n",
    "\n",
    "# Data for visualization\n",
    "duplicate_counts = {'Before Cleaning': duplicates_before, 'After Cleaning': duplicates_after}\n",
    "\n",
    "# Plotting the bar chart\n",
    "plt.figure(figsize=(6, 4))\n",
    "ax = sns.barplot(x=list(duplicate_counts.keys()), y=list(duplicate_counts.values()), palette=['blue', 'green'])\n",
    "\n",
    "# **Adding labels to the bars**\n",
    "for i, v in enumerate(duplicate_counts.values()):\n",
    "    ax.text(i, v + 5, str(v), ha='center', fontsize=12, fontweight='bold')\n",
    "\n",
    "# Adding labels and title\n",
    "plt.ylabel(\"Number of Duplicates\")\n",
    "plt.title(\"Duplicates Before and After Cleaning\")\n",
    "plt.ylim(0, max(duplicate_counts.values()) + 20)  # Adjust y-axis for spacing\n",
    "\n",
    "plt.show()\n"
   ]
  },
  {
   "cell_type": "markdown",
   "id": "d3391a21",
   "metadata": {},
   "source": [
    "The dataset had **217** duplicate entries before cleaning, and **0** afterwards as shown in the visualisation above"
   ]
  },
  {
   "cell_type": "markdown",
   "id": "68f08312",
   "metadata": {},
   "source": [
    "### Checking for Blanks"
   ]
  },
  {
   "cell_type": "code",
   "execution_count": 10,
   "id": "592b8386",
   "metadata": {},
   "outputs": [
    {
     "data": {
      "text/html": [
       "<div>\n",
       "<style scoped>\n",
       "    .dataframe tbody tr th:only-of-type {\n",
       "        vertical-align: middle;\n",
       "    }\n",
       "\n",
       "    .dataframe tbody tr th {\n",
       "        vertical-align: top;\n",
       "    }\n",
       "\n",
       "    .dataframe thead th {\n",
       "        text-align: right;\n",
       "    }\n",
       "</style>\n",
       "<table border=\"1\" class=\"dataframe\">\n",
       "  <thead>\n",
       "    <tr style=\"text-align: right;\">\n",
       "      <th></th>\n",
       "      <th>Missing Values</th>\n",
       "      <th>Percentage (%)</th>\n",
       "    </tr>\n",
       "  </thead>\n",
       "  <tbody>\n",
       "    <tr>\n",
       "      <th>PRODUCTID</th>\n",
       "      <td>0</td>\n",
       "      <td>0.00</td>\n",
       "    </tr>\n",
       "    <tr>\n",
       "      <th>TITLE</th>\n",
       "      <td>0</td>\n",
       "      <td>0.00</td>\n",
       "    </tr>\n",
       "    <tr>\n",
       "      <th>BULLET_POINTS</th>\n",
       "      <td>1452</td>\n",
       "      <td>40.00</td>\n",
       "    </tr>\n",
       "    <tr>\n",
       "      <th>DESCRIPTION</th>\n",
       "      <td>1985</td>\n",
       "      <td>54.68</td>\n",
       "    </tr>\n",
       "    <tr>\n",
       "      <th>PRODUCTTYPEID</th>\n",
       "      <td>89</td>\n",
       "      <td>2.45</td>\n",
       "    </tr>\n",
       "    <tr>\n",
       "      <th>ProductLength</th>\n",
       "      <td>89</td>\n",
       "      <td>2.45</td>\n",
       "    </tr>\n",
       "  </tbody>\n",
       "</table>\n",
       "</div>"
      ],
      "text/plain": [
       "               Missing Values  Percentage (%)\n",
       "PRODUCTID                   0            0.00\n",
       "TITLE                       0            0.00\n",
       "BULLET_POINTS            1452           40.00\n",
       "DESCRIPTION              1985           54.68\n",
       "PRODUCTTYPEID              89            2.45\n",
       "ProductLength              89            2.45"
      ]
     },
     "execution_count": 10,
     "metadata": {},
     "output_type": "execute_result"
    }
   ],
   "source": [
    "missing_values = product.isnull().sum()\n",
    "missing_percent = (product.isnull().sum() / len(product)) * 100\n",
    "\n",
    "# Creating a DataFrame\n",
    "missing_df = pd.DataFrame({\n",
    "    'Missing Values': missing_values,\n",
    "    'Percentage (%)': missing_percent.round(2)  # Round to 2 decimal places\n",
    "})\n",
    "\n",
    "missing_df\n"
   ]
  },
  {
   "cell_type": "code",
   "execution_count": 11,
   "id": "819e96b7",
   "metadata": {},
   "outputs": [
    {
     "data": {
      "text/plain": [
       "<Figure size 800x500 with 0 Axes>"
      ]
     },
     "metadata": {},
     "output_type": "display_data"
    },
    {
     "data": {
      "image/png": "[encoded data removed]",
      "text/plain": [
       "<Figure size 800x500 with 1 Axes>"
      ]
     },
     "metadata": {},
     "output_type": "display_data"
    }
   ],
   "source": [
    "\n",
    "\n",
    "# Plot missing values\n",
    "plt.figure(figsize=(8, 5))\n",
    "missing_df.sort_values(by=\"Missing Values\", ascending=False).plot(\n",
    "    kind=\"bar\", y=\"Missing Values\", legend=False, color=\"blue\", figsize=(8, 5)\n",
    ")\n",
    "\n",
    "# Labels and title\n",
    "plt.xlabel(\"Columns\")\n",
    "plt.ylabel(\"Number of Missing Values\")\n",
    "plt.title(\"Missing Values per Column\")\n",
    "plt.xticks(rotation=45)  # Rotate x-axis labels for readability\n",
    "plt.grid(axis=\"y\", linestyle=\"--\", alpha=0.7)\n",
    "\n",
    "plt.show()\n"
   ]
  },
  {
   "cell_type": "markdown",
   "id": "94f12b12",
   "metadata": {},
   "source": [
    "### Handling Blanks"
   ]
  },
  {
   "cell_type": "code",
   "execution_count": 12,
   "id": "0a629936",
   "metadata": {},
   "outputs": [
    {
     "name": "stdout",
     "output_type": "stream",
     "text": [
      "PRODUCTID        0\n",
      "TITLE            0\n",
      "BULLET_POINTS    0\n",
      "DESCRIPTION      0\n",
      "PRODUCTTYPEID    0\n",
      "ProductLength    0\n",
      "dtype: int64\n"
     ]
    }
   ],
   "source": [
    "# Drop rows where numerical columns (float64) have missing values\n",
    "product.dropna(subset=['PRODUCTTYPEID', 'ProductLength'], inplace=True)\n",
    "\n",
    "# Replace missing values in categorical columns using .loc[]\n",
    "product.loc[:, ['BULLET_POINTS', 'DESCRIPTION']] = product[['BULLET_POINTS', 'DESCRIPTION']].fillna(\"No information\")\n",
    "\n",
    "# Verify changes\n",
    "print(product.isnull().sum())  # Should return 0 for these columns\n",
    "\n"
   ]
  },
  {
   "cell_type": "markdown",
   "id": "3b1f8970",
   "metadata": {},
   "source": [
    "### Column Names"
   ]
  },
  {
   "cell_type": "code",
   "execution_count": 13,
   "id": "77cad630",
   "metadata": {},
   "outputs": [
    {
     "name": "stdout",
     "output_type": "stream",
     "text": [
      "Index(['productid', 'title', 'bullet_points', 'description', 'producttypeid',\n",
      "       'productlength'],\n",
      "      dtype='object')\n"
     ]
    }
   ],
   "source": [
    "# Convert column names to snake_case\n",
    "product.columns = product.columns.str.strip().str.lower().str.replace(\" \", \"_\")\n",
    "\n",
    "print(product.columns)  # Verify changes"
   ]
  },
  {
   "cell_type": "markdown",
   "id": "7150a451",
   "metadata": {},
   "source": [
    "## Analysing Title Column"
   ]
  },
  {
   "cell_type": "markdown",
   "id": "311a01a6",
   "metadata": {},
   "source": [
    "Before we can begin creating our SEO titles, we need to understand the title column. So let's carry out some simple analysis on the column.\n",
    "After our intial cleaning, we ended up with **3541** rows which equates to **3541** titles"
   ]
  },
  {
   "cell_type": "code",
   "execution_count": 14,
   "id": "a6cc8718",
   "metadata": {},
   "outputs": [
    {
     "data": {
      "image/png": "[encoded data removed]",
      "text/plain": [
       "<Figure size 640x480 with 1 Axes>"
      ]
     },
     "metadata": {},
     "output_type": "display_data"
    }
   ],
   "source": [
    "# What's the length range of our titles?\n",
    "product['title'].str.len().describe()\n",
    "\n",
    "# Maybe plot the distribution to visualize\n",
    "plt.hist(product['title'].str.len())\n",
    "plt.title('Title Length Distribution')\n",
    "plt.show()"
   ]
  },
  {
   "cell_type": "markdown",
   "id": "e226f518",
   "metadata": {},
   "source": [
    "The histogram shows the distribution of product title lengths, with most titles falling between 50 and 150 characters. A few outliers extend beyond 250 characters, but they are rare. Since SEO titles are usually between 50-60 characters, our new short titles need to fall in that range"
   ]
  },
  {
   "cell_type": "markdown",
   "id": "cb96023f",
   "metadata": {},
   "source": [
    "Most product titles contain numbers (2186) and special characters (2926), suggesting that they may include model numbers, prices, or unnecessary symbols that can be removed or shortened for SEO-friendly titles. Since only a few titles mention key features (2) or colors (22), we may need to prioritize adding relevant descriptors while trimming excess details to keep titles within 50-60 characters."
   ]
  },
  {
   "cell_type": "code",
   "execution_count": 63,
   "id": "553db920",
   "metadata": {},
   "outputs": [
    {
     "name": "stdout",
     "output_type": "stream",
     "text": [
      "                         title  bullet_points  description\n",
      "Foreign Characters           0            403          264\n",
      "HTML Tags                    0             30          463\n",
      "HTML Entities                0             10          121\n",
      "Unspaced Words            1001           1133          896\n",
      "Hex Encoding (_x0000_)       0            112           42\n",
      "Special Characters        2258           2132         1565\n",
      "Fully Uppercase Words       50            983          739\n",
      "Sentence Capitalization     79              2           20\n",
      "Multiple Spaces              0              9           13\n",
      "Leading/Trailing Spaces      0              0            1\n"
     ]
    }
   ],
   "source": [
    "import re\n",
    "\n",
    "def check_text_issues(df):\n",
    "    \"\"\"\n",
    "    Identifies common text issues in title, bullet_points, and description columns.\n",
    "    \n",
    "    Returns:\n",
    "    DataFrame: Summary of issues found in each column.\n",
    "    \"\"\"\n",
    "    # Pre-compile regex patterns for performance\n",
    "    patterns = {\n",
    "        \"Foreign Characters\": re.compile(r\"[^\\x00-\\x7F]\"),  # Non-ASCII characters\n",
    "        \"HTML Tags\": re.compile(r\"<[^>]+>\"),  # <br>, <p>, etc.\n",
    "        \"HTML Entities\": re.compile(r\"&\\w+;\"),  # &nbsp;, &gt;, etc.\n",
    "        \"Unspaced Words\": re.compile(r\"(?<=\\w)(?=[A-Z])\"),  # Words without spaces\n",
    "        \"Hex Encoding (_x0000_)\": re.compile(r\"_x[0-9A-Fa-f]{4}_\"),  # Hex-like encoding\n",
    "        \"Special Characters\": re.compile(r\"[^a-zA-Z0-9\\s]\"),  # Symbols except spaces\n",
    "        \"Fully Uppercase Words\": re.compile(r\"\\b[A-Z]{2,}\\b\"),  # Words in ALL CAPS\n",
    "        \"Sentence Capitalization\": re.compile(r\"^[a-z]\"),  # Sentences not starting with a capital letter\n",
    "        \"Multiple Spaces\": re.compile(r\"\\s{2,}\"),  # Consecutive spaces\n",
    "        \"Leading/Trailing Spaces\": re.compile(r\"^\\s+|\\s+$\")  # Spaces at the start or end\n",
    "    }\n",
    "\n",
    "    columns = [\"title\", \"bullet_points\", \"description\"]\n",
    "    results = {col: {} for col in columns}\n",
    "\n",
    "    for col in columns:\n",
    "        if col in df.columns:\n",
    "            for issue, pattern in patterns.items():\n",
    "                results[col][issue] = df[col].str.contains(pattern, regex=True, na=False).sum()\n",
    "\n",
    "    return pd.DataFrame(results)\n",
    "\n",
    "# Run check on the product dataframe\n",
    "text_issues_report = check_text_issues(product)\n",
    "\n",
    "# Display results\n",
    "print(text_issues_report)\n"
   ]
  },
  {
   "cell_type": "markdown",
   "id": "f763d24d",
   "metadata": {},
   "source": [
    "The title column has a high count of special characters (2,258), unspaced words (1,001), and fully uppercase words (50), which may impact readability and SEO. To optimize, we’ll remove special characters, correct spacing, and convert uppercase words to title case while maintaining key terms for clarity.\n",
    "\n",
    "Next, we'll focus on cleaning up special characters, ensuring proper spacing, and enforcing title case to meet SEO standards, keeping titles concise and relevant."
   ]
  },
  {
   "cell_type": "markdown",
   "id": "0fb7cfb2",
   "metadata": {},
   "source": [
    "### Cleaning Title Column"
   ]
  },
  {
   "cell_type": "code",
   "execution_count": 16,
   "id": "61abce86",
   "metadata": {},
   "outputs": [
    {
     "name": "stdout",
     "output_type": "stream",
     "text": [
      "0    ArtzFolio Tulip Flowers Blackout Curtain for D...\n",
      "1    Marks & Spencer Girls' Pyjama Sets T86_2561C_N...\n",
      "2    PRIKNIK Horn Red Electric Air Horn Compressor ...\n",
      "3    ALISHAH Women's Cotton Ankle Length Leggings C...\n",
      "4    The United Empire Loyalists: A Chronicle of th...\n",
      "Name: title, dtype: object\n"
     ]
    }
   ],
   "source": [
    "print(product['title'].head())"
   ]
  },
  {
   "cell_type": "code",
   "execution_count": 17,
   "id": "917b94f3",
   "metadata": {},
   "outputs": [],
   "source": [
    "# Function to clean the title column\n",
    "def clean_title(title):\n",
    "    if pd.isna(title):  # Handle missing values\n",
    "        return \"\"\n",
    "    \n",
    "    # Remove special characters except necessary punctuation\n",
    "    title = re.sub(r\"[^a-zA-Z0-9,.'\\-\\s]\", \"\", title)\n",
    "    \n",
    "    # Fix unspaced words (adding spaces after punctuation if missing)\n",
    "    title = re.sub(r\"(?<=[.,])(?!\\s)\", \" \", title)\n",
    "    \n",
    "    # Convert fully uppercase words to title case\n",
    "    title = \" \".join([word.title() if word.isupper() else word for word in title.split()])\n",
    "    \n",
    "    # Remove foreign characters (non-ASCII)\n",
    "    title = re.sub(r\"[^\\x00-\\x7F]+\", \"\", title)\n",
    "    \n",
    "    # Trim leading/trailing spaces\n",
    "    return title.strip()\n",
    "\n",
    "# Apply cleaning function to the title column\n",
    "product['title'] = product['title'].apply(clean_title)\n"
   ]
  },
  {
   "cell_type": "code",
   "execution_count": 37,
   "id": "d8ed5891",
   "metadata": {},
   "outputs": [
    {
     "name": "stdout",
     "output_type": "stream",
     "text": [
      "0                                                ArtzFolio Tulip Flowers Blackout Curtain for Door, Window Room Eyelets Tie Back Canvas Fabric Width 4. 5feet 54inch Height 5 feet 60 inch Set of 2 Pcs\n",
      "1                                                                                                                                                Marks Spencer Girls' Pyjama Sets T862561CNavy Mix9-10Y\n",
      "2                                                                                                     Priknik Horn Red Electric Air Horn Compressor Interior Dual Tone Trumpet Loud Compatible with Sx4\n",
      "3                                                                                                                              Alishah Women's Cotton Ankle Length Leggings Combo of 2, Plus 12 ColorsL\n",
      "4                                                                                                                                        The United Empire Loyalists A Chronicle of the Great Migration\n",
      "5    Hins Metal Bucket Shape Plant Pot for Indoor Outdoor Gardening Red, Medium Plant Stands for Indoor Balcony I Plant Bench I Plant Stands I Pot Stand Single I Potted Plant Stand I Big Pots I Metal\n",
      "6                                                                                                                                                                          Ungifted My Life and Journey\n",
      "7                                                                                              Delavala Self Adhesive Kitchen Backsplash Wallpaper, Oil Proof Aluminum Foil Kitchen Sticker Sliver 5Mtr\n",
      "8                                                                                                                                         Puma Cali Sport Clean Women's Sneakers White Leather 37540701\n",
      "9                                                                                       Hexwell Essential oil for Home Fragrance Oil Aroma Diffuser oil Set of 2 Rajnigandha Oil TeaTree Oil -10Ml Each\n",
      "Name: title, dtype: object\n"
     ]
    }
   ],
   "source": [
    "pd.set_option('display.max_colwidth', None)  # Show full text in columns\n",
    "\n",
    "print(product['title'].head())"
   ]
  },
  {
   "cell_type": "code",
   "execution_count": 55,
   "id": "30ce8c59",
   "metadata": {},
   "outputs": [],
   "source": [
    "import re\n",
    "\n",
    "COLOR_LIST = [\n",
    "    \"black\", \"white\", \"red\", \"blue\", \"green\", \"yellow\", \"purple\", \"orange\",\n",
    "    \"pink\", \"gray\", \"grey\", \"brown\", \"beige\", \"gold\", \"silver\", \"navy\", \"teal\", \"maroon\"\n",
    "]\n",
    "\n",
    "FILLER_WORDS = {\"for\", \"with\", \"plus\"}\n",
    "\n",
    "def is_color_token(token):\n",
    "    token_letters = re.sub(r'[^A-Za-z]', '', token).lower()\n",
    "    return token_letters in COLOR_LIST\n",
    "\n",
    "def is_product_code(token):\n",
    "    token_clean = re.sub(r'[^\\w]', '', token)\n",
    "    if len(token_clean) < 4:\n",
    "        return False\n",
    "    # Also treat tokens that are purely numeric (with length ≥ 4) as product codes.\n",
    "    if token_clean.isdigit():\n",
    "        return True\n",
    "    return bool(re.search(r'\\d', token_clean) and re.search(r'[A-Za-z]', token_clean))\n",
    "\n",
    "def generate_short_title(title):\n",
    "    \"\"\"\n",
    "    Generates an SEO-friendly short title by:\n",
    "      • Attempting to extract a trailing measurement suffix (e.g. \"-5\" or \"- 10Ml Each\").\n",
    "      • Removing that suffix from the title for further processing unless the word immediately\n",
    "        before it is a filler (e.g. \"plus\").\n",
    "      • Tokenizing the remaining title and filtering out tokens that are product codes or color adjectives.\n",
    "      • Collecting tokens until a filler word is encountered.\n",
    "      • If a measurement suffix was extracted, then limit the main part to 6 words.\n",
    "      • If no filler word was encountered and the main part is very long (>8 words), limit it to 6 words.\n",
    "      • Re-attach the measurement suffix (if any) using a hyphen separator.\n",
    "      • Finally, truncate the result to 60 characters if necessary.\n",
    "    \"\"\"\n",
    "    # 1. Attempt to extract a trailing measurement suffix.\n",
    "    measurement_match = re.search(r'(-?\\d+(?:\\.\\d+)?\\s*[A-Za-z]+(?:\\s+[A-Za-z]+)?)\\s*$', title)\n",
    "    if measurement_match:\n",
    "        prefix = title[:measurement_match.start()].strip()\n",
    "        # If the last word before the measurement is a filler word, cancel measurement extraction.\n",
    "        if prefix and prefix.split()[-1].lower() in FILLER_WORDS:\n",
    "            measurement_suffix = \"\"\n",
    "            title_without_measurement = title.strip()\n",
    "        else:\n",
    "            measurement_suffix = re.sub(r'^-+', '', measurement_match.group(1).strip())\n",
    "            title_without_measurement = title[:measurement_match.start()].strip()\n",
    "    else:\n",
    "        measurement_suffix = \"\"\n",
    "        title_without_measurement = title.strip()\n",
    "    \n",
    "    # 2. Tokenize the remaining title.\n",
    "    tokens_original = title_without_measurement.split()\n",
    "    \n",
    "    # 3. Filter out tokens that are product codes or color adjectives.\n",
    "    tokens_filtered = [t for t in tokens_original if not (is_color_token(t) or is_product_code(t))]\n",
    "    \n",
    "    # 4. Build the main tokens by collecting tokens until a filler word is encountered.\n",
    "    main_tokens = []\n",
    "    used_filler = False\n",
    "    for token in tokens_filtered:\n",
    "        if token.lower() in FILLER_WORDS:\n",
    "            used_filler = True\n",
    "            break\n",
    "        main_tokens.append(token)\n",
    "    \n",
    "    # 5. Decide if we should limit the main tokens:\n",
    "    #    - If a measurement suffix was extracted, limit to 6 words.\n",
    "    #    - Else, if no filler word was encountered and there are more than 8 words, limit to 6 words.\n",
    "    if measurement_suffix:\n",
    "        max_words = 6\n",
    "        main_tokens = main_tokens[:max_words]\n",
    "    elif not used_filler and len(main_tokens) > 8:\n",
    "        max_words = 6\n",
    "        main_tokens = main_tokens[:max_words]\n",
    "    # Otherwise, keep all main_tokens (e.g. when a filler word was encountered).\n",
    "    \n",
    "    main_text = \" \".join(main_tokens).strip()\n",
    "    \n",
    "    # 6. Reassemble the final title.\n",
    "    if not main_text:\n",
    "        final_title = title_without_measurement[:60].strip()\n",
    "    else:\n",
    "        final_title = f\"{main_text} - {measurement_suffix}\" if measurement_suffix else main_text\n",
    "    \n",
    "    final_title = re.sub(r'[\\s,-]+$', '', final_title)\n",
    "    if len(final_title) > 60:\n",
    "        final_title = final_title[:60].rstrip()\n",
    "    \n",
    "    return final_title\n",
    "\n",
    "# Add the generated short_title to the 'product' DataFrame in a new column.\n",
    "product['short_title'] = product['title'].apply(generate_short_title)\n"
   ]
  },
  {
   "cell_type": "code",
   "execution_count": 59,
   "id": "63b76a79",
   "metadata": {
    "scrolled": true
   },
   "outputs": [
    {
     "data": {
      "text/html": [
       "<div>\n",
       "<style scoped>\n",
       "    .dataframe tbody tr th:only-of-type {\n",
       "        vertical-align: middle;\n",
       "    }\n",
       "\n",
       "    .dataframe tbody tr th {\n",
       "        vertical-align: top;\n",
       "    }\n",
       "\n",
       "    .dataframe thead th {\n",
       "        text-align: right;\n",
       "    }\n",
       "</style>\n",
       "<table border=\"1\" class=\"dataframe\">\n",
       "  <thead>\n",
       "    <tr style=\"text-align: right;\">\n",
       "      <th></th>\n",
       "      <th>productid</th>\n",
       "      <th>title</th>\n",
       "      <th>bullet_points</th>\n",
       "      <th>description</th>\n",
       "      <th>producttypeid</th>\n",
       "      <th>productlength</th>\n",
       "      <th>short_title</th>\n",
       "    </tr>\n",
       "  </thead>\n",
       "  <tbody>\n",
       "    <tr>\n",
       "      <th>0</th>\n",
       "      <td>1925202</td>\n",
       "      <td>ArtzFolio Tulip Flowers Blackout Curtain for Door, Window Room Eyelets Tie Back Canvas Fabric Width 4. 5feet 54inch Height 5 feet 60 inch Set of 2 Pcs</td>\n",
       "      <td>[LUXURIOUS &amp; APPEALING: Beautiful custom-made curtains to decorate any home or office | Includes inbuilt tieback to hold the curtain | Completely finished and ready to hang on walls &amp; windows,MATERIAL: Luxurious &amp; versatile fabric with a natural finish | High colour fastness | State-of-the-art digital printing ensures colour consistency and prevents any fading | Eyelets; Cotton Canvas; Width 4.5feet (54inch) | Multicolour | PACKAGE: 2 Room Curtains Eyelets | SIZE: Height 5 feet (60 inch); SET OF 2 PCS,BLACKOUT CURTAIN: 100% opaque &amp; heavy premium cotton canvas fabric | Tight knitted, long life &amp; durable fabric | Printing only on front side with a plain colour back side,MADE TO PERFECTION: Large eyelets at the top to put hanging hooks | Perfectly tailored seams for durability | Refined stitching with a matching thread color,QUALITY ASSURED: Gentle wash with similar colors in cold water | Avoid direct sunlight to prevent fading | Dispatched after MULTIPLE QUALITY CHECKS]</td>\n",
       "      <td>No information</td>\n",
       "      <td>1650.0</td>\n",
       "      <td>2125.980000</td>\n",
       "      <td>ArtzFolio Tulip Flowers Blackout Curtain - 2 Pcs</td>\n",
       "    </tr>\n",
       "    <tr>\n",
       "      <th>1</th>\n",
       "      <td>2673191</td>\n",
       "      <td>Marks Spencer Girls' Pyjama Sets T862561CNavy Mix9-10Y</td>\n",
       "      <td>[Harry Potter Hedwig Pyjamas (6-16 Yrs),100% cotton (exclusive of trimmings),Ribbing - 98% cotton, 2% elastane]</td>\n",
       "      <td>No information</td>\n",
       "      <td>2755.0</td>\n",
       "      <td>393.700000</td>\n",
       "      <td>Marks Spencer Girls' Pyjama Sets - 10Y</td>\n",
       "    </tr>\n",
       "    <tr>\n",
       "      <th>2</th>\n",
       "      <td>2765088</td>\n",
       "      <td>Priknik Horn Red Electric Air Horn Compressor Interior Dual Tone Trumpet Loud Compatible with Sx4</td>\n",
       "      <td>[Loud Dual Tone Trumpet Horn, Compatible With SX4,Electric Air Horn with Compressor, Compatible With SX4,High Quality, High Intensity Horn Sound, Compatible With SX4,Color: Red, Compatible With SX4,Professional installation required, Compatible With SX4]</td>\n",
       "      <td>Specifications: Color: Red, Material: Aluminium, Voltage: 12V, dB: 130 dB (around), Material: Aluminum Pump Head + Steel Pump Body + ABS Shell and Parts DB output: 130db Voltage: 12v Sound Type: Dual Tone Application: 12V Voltage Vehicles With Battery Above 20A Package included: 1 x Dual Tone Air Horn Compatible With SX4</td>\n",
       "      <td>7537.0</td>\n",
       "      <td>748.031495</td>\n",
       "      <td>Priknik Horn Electric Air Horn Compressor Interior Dual Tone</td>\n",
       "    </tr>\n",
       "    <tr>\n",
       "      <th>3</th>\n",
       "      <td>1594019</td>\n",
       "      <td>Alishah Women's Cotton Ankle Length Leggings Combo of 2, Plus 12 ColorsL</td>\n",
       "      <td>[Made By 95%cotton and 5% Lycra which gives you 4 ways stretchable comfort, GSM 180 to 190,Come with Elasticized Waist Band, Slim Fit,Bubble free fabric and High quality steaching, Bio Wash,Skin-friendly fabric,ANKLE LENGTH LEGGINGS PACK OF 2]</td>\n",
       "      <td>AISHAH Women's Lycra Cotton Ankel Leggings. Brand: ALISHAH Length: Ankel Length Leggings. Size Chart Medium: 28 - 30 inch Large: 30 - 32 inch X-Large: 32 - 34 inch 2X-Large: 34 - 38 inch The color fade will not be there in washing. This cotton stretch leggings is designed to provide absolute comfort and body fit. Pair it with short or long kurta for modern look. High on style, fit and finish, this leggings is sure to lend you a sophisticated look. Please wash the dark colors separately in order to improve the product life. Disclaimer: Product color may slightly vary due to photographic lighting sources or your monitor settings. Please order according to your waist size mentioned in size chart</td>\n",
       "      <td>2996.0</td>\n",
       "      <td>787.401574</td>\n",
       "      <td>Alishah Women's Cotton Ankle Length Leggings Combo of 2</td>\n",
       "    </tr>\n",
       "    <tr>\n",
       "      <th>4</th>\n",
       "      <td>283658</td>\n",
       "      <td>The United Empire Loyalists A Chronicle of the Great Migration</td>\n",
       "      <td>No information</td>\n",
       "      <td>No information</td>\n",
       "      <td>6112.0</td>\n",
       "      <td>598.424000</td>\n",
       "      <td>The United Empire Loyalists A Chronicle</td>\n",
       "    </tr>\n",
       "  </tbody>\n",
       "</table>\n",
       "</div>"
      ],
      "text/plain": [
       "   productid  \\\n",
       "0    1925202   \n",
       "1    2673191   \n",
       "2    2765088   \n",
       "3    1594019   \n",
       "4     283658   \n",
       "\n",
       "                                                                                                                                                    title  \\\n",
       "0  ArtzFolio Tulip Flowers Blackout Curtain for Door, Window Room Eyelets Tie Back Canvas Fabric Width 4. 5feet 54inch Height 5 feet 60 inch Set of 2 Pcs   \n",
       "1                                                                                                  Marks Spencer Girls' Pyjama Sets T862561CNavy Mix9-10Y   \n",
       "2                                                       Priknik Horn Red Electric Air Horn Compressor Interior Dual Tone Trumpet Loud Compatible with Sx4   \n",
       "3                                                                                Alishah Women's Cotton Ankle Length Leggings Combo of 2, Plus 12 ColorsL   \n",
       "4                                                                                          The United Empire Loyalists A Chronicle of the Great Migration   \n",
       "\n",
       "                                                                                                                                                                                                                                                                                                                                                                                                                                                                                                                                                                                                                                                                                                                                                                                                                                                                                                                                                                                                             bullet_points  \\\n",
       "0  [LUXURIOUS & APPEALING: Beautiful custom-made curtains to decorate any home or office | Includes inbuilt tieback to hold the curtain | Completely finished and ready to hang on walls & windows,MATERIAL: Luxurious & versatile fabric with a natural finish | High colour fastness | State-of-the-art digital printing ensures colour consistency and prevents any fading | Eyelets; Cotton Canvas; Width 4.5feet (54inch) | Multicolour | PACKAGE: 2 Room Curtains Eyelets | SIZE: Height 5 feet (60 inch); SET OF 2 PCS,BLACKOUT CURTAIN: 100% opaque & heavy premium cotton canvas fabric | Tight knitted, long life & durable fabric | Printing only on front side with a plain colour back side,MADE TO PERFECTION: Large eyelets at the top to put hanging hooks | Perfectly tailored seams for durability | Refined stitching with a matching thread color,QUALITY ASSURED: Gentle wash with similar colors in cold water | Avoid direct sunlight to prevent fading | Dispatched after MULTIPLE QUALITY CHECKS]   \n",
       "1                                                                                                                                                                                                                                                                                                                                                                                                                                                                                                                                                                                                                                                                                                                                                                                                                                                                                                          [Harry Potter Hedwig Pyjamas (6-16 Yrs),100% cotton (exclusive of trimmings),Ribbing - 98% cotton, 2% elastane]   \n",
       "2                                                                                                                                                                                                                                                                                                                                                                                                                                                                                                                                                                                                                                                                                                                                                           [Loud Dual Tone Trumpet Horn, Compatible With SX4,Electric Air Horn with Compressor, Compatible With SX4,High Quality, High Intensity Horn Sound, Compatible With SX4,Color: Red, Compatible With SX4,Professional installation required, Compatible With SX4]   \n",
       "3                                                                                                                                                                                                                                                                                                                                                                                                                                                                                                                                                                                                                                                                                                                                                                      [Made By 95%cotton and 5% Lycra which gives you 4 ways stretchable comfort, GSM 180 to 190,Come with Elasticized Waist Band, Slim Fit,Bubble free fabric and High quality steaching, Bio Wash,Skin-friendly fabric,ANKLE LENGTH LEGGINGS PACK OF 2]   \n",
       "4                                                                                                                                                                                                                                                                                                                                                                                                                                                                                                                                                                                                                                                                                                                                                                                                                                                                                                                                                                                                           No information   \n",
       "\n",
       "                                                                                                                                                                                                                                                                                                                                                                                                                                                                                                                                                                                                                                                                                                                     description  \\\n",
       "0                                                                                                                                                                                                                                                                                                                                                                                                                                                                                                                                                                                                                                                                                                                 No information   \n",
       "1                                                                                                                                                                                                                                                                                                                                                                                                                                                                                                                                                                                                                                                                                                                 No information   \n",
       "2                                                                                                                                                                                                                                                                                                                                                                                             Specifications: Color: Red, Material: Aluminium, Voltage: 12V, dB: 130 dB (around), Material: Aluminum Pump Head + Steel Pump Body + ABS Shell and Parts DB output: 130db Voltage: 12v Sound Type: Dual Tone Application: 12V Voltage Vehicles With Battery Above 20A Package included: 1 x Dual Tone Air Horn Compatible With SX4   \n",
       "3  AISHAH Women's Lycra Cotton Ankel Leggings. Brand: ALISHAH Length: Ankel Length Leggings. Size Chart Medium: 28 - 30 inch Large: 30 - 32 inch X-Large: 32 - 34 inch 2X-Large: 34 - 38 inch The color fade will not be there in washing. This cotton stretch leggings is designed to provide absolute comfort and body fit. Pair it with short or long kurta for modern look. High on style, fit and finish, this leggings is sure to lend you a sophisticated look. Please wash the dark colors separately in order to improve the product life. Disclaimer: Product color may slightly vary due to photographic lighting sources or your monitor settings. Please order according to your waist size mentioned in size chart   \n",
       "4                                                                                                                                                                                                                                                                                                                                                                                                                                                                                                                                                                                                                                                                                                                 No information   \n",
       "\n",
       "   producttypeid  productlength  \\\n",
       "0         1650.0    2125.980000   \n",
       "1         2755.0     393.700000   \n",
       "2         7537.0     748.031495   \n",
       "3         2996.0     787.401574   \n",
       "4         6112.0     598.424000   \n",
       "\n",
       "                                                    short_title  \n",
       "0              ArtzFolio Tulip Flowers Blackout Curtain - 2 Pcs  \n",
       "1                        Marks Spencer Girls' Pyjama Sets - 10Y  \n",
       "2  Priknik Horn Electric Air Horn Compressor Interior Dual Tone  \n",
       "3       Alishah Women's Cotton Ankle Length Leggings Combo of 2  \n",
       "4                       The United Empire Loyalists A Chronicle  "
      ]
     },
     "execution_count": 59,
     "metadata": {},
     "output_type": "execute_result"
    }
   ],
   "source": [
    "product.head()"
   ]
  },
  {
   "cell_type": "code",
   "execution_count": 60,
   "id": "545d896a",
   "metadata": {},
   "outputs": [
    {
     "data": {
      "image/png": "[encoded data removed]",
      "text/plain": [
       "<Figure size 640x480 with 1 Axes>"
      ]
     },
     "metadata": {},
     "output_type": "display_data"
    }
   ],
   "source": [
    "# Maybe plot the distribution to visualize\n",
    "plt.hist(product['short_title'].str.len())\n",
    "plt.title('Title Length Distribution')\n",
    "plt.show()"
   ]
  },
  {
   "cell_type": "code",
   "execution_count": 58,
   "id": "77342431",
   "metadata": {},
   "outputs": [],
   "source": [
    "product.to_excel(\"product_new.xlsx\", index=False)\n"
   ]
  },
  {
   "cell_type": "code",
   "execution_count": null,
   "id": "138f2851",
   "metadata": {},
   "outputs": [],
   "source": []
  }
 ],
 "metadata": {
  "kernelspec": {
   "display_name": "Python 3 (ipykernel)",
   "language": "python",
   "name": "python3"
  },
  "language_info": {
   "codemirror_mode": {
    "name": "ipython",
    "version": 3
   },
   "file_extension": ".py",
   "mimetype": "text/x-python",
   "name": "python",
   "nbconvert_exporter": "python",
   "pygments_lexer": "ipython3",
   "version": "3.11.5"
  }
 },
 "nbformat": 4,
 "nbformat_minor": 5
}
